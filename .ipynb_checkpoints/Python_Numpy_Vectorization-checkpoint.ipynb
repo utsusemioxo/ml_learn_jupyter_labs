{
 "cells": [
  {
   "cell_type": "code",
   "execution_count": 1,
   "id": "b374f382-6aaf-4eec-b589-717fb6f5ad35",
   "metadata": {},
   "outputs": [],
   "source": [
    "import numpy as np"
   ]
  },
  {
   "cell_type": "markdown",
   "id": "c5817957-d102-44e2-9495-c83e53d982bf",
   "metadata": {},
   "source": []
  },
  {
   "cell_type": "code",
   "execution_count": 2,
   "id": "c72feda0-6b8b-43f3-862e-ce39952ac67c",
   "metadata": {},
   "outputs": [],
   "source": [
    "import time"
   ]
  },
  {
   "cell_type": "code",
   "execution_count": 3,
   "id": "24d9f3e0-8382-41d3-9fa5-d0c9fa8db03c",
   "metadata": {},
   "outputs": [],
   "source": [
    "a = np.zeros(4)"
   ]
  },
  {
   "cell_type": "code",
   "execution_count": 4,
   "id": "80c50d6f-c2e1-4802-8078-f36160aaf22c",
   "metadata": {},
   "outputs": [
    {
     "data": {
      "text/plain": [
       "array([0., 0., 0., 0.])"
      ]
     },
     "execution_count": 4,
     "metadata": {},
     "output_type": "execute_result"
    }
   ],
   "source": [
    "a"
   ]
  },
  {
   "cell_type": "code",
   "execution_count": 5,
   "id": "4c8bfd2e-2196-454a-acb9-4cc3acbe6a0d",
   "metadata": {},
   "outputs": [
    {
     "name": "stdout",
     "output_type": "stream",
     "text": [
      "np.zeros(4) : a = [0. 0. 0. 0.], shape = (4,), a data type = float64\n"
     ]
    }
   ],
   "source": [
    "print(f\"np.zeros(4) : a = {a}, shape = {a.shape}, a data type = {a.dtype}\")"
   ]
  },
  {
   "cell_type": "code",
   "execution_count": 10,
   "id": "f786228a-6cca-4b84-ad2c-cd9f5ba65643",
   "metadata": {},
   "outputs": [
    {
     "name": "stdout",
     "output_type": "stream",
     "text": [
      "np.zeros((4,)) : a = [0. 0. 0. 0.], shape = (4,), a data type = float64\n"
     ]
    }
   ],
   "source": [
    "a = np.zeros((4,))\n",
    "print(f\"np.zeros((4,)) : a = {a}, shape = {a.shape}, a data type = {a.dtype}\")"
   ]
  },
  {
   "cell_type": "code",
   "execution_count": 11,
   "id": "2a2e53e9-25d6-495f-9023-b847a559b2bb",
   "metadata": {},
   "outputs": [
    {
     "name": "stdout",
     "output_type": "stream",
     "text": [
      "np.random.random_sample(4) : a = [0.74921335 0.06012106 0.35946935 0.84559968], shape = (4,), a data type = float64\n"
     ]
    }
   ],
   "source": [
    "a = np.random.random_sample(4)\n",
    "print(f\"np.random.random_sample(4) : a = {a}, shape = {a.shape}, a data type = {a.dtype}\")"
   ]
  },
  {
   "cell_type": "code",
   "execution_count": 15,
   "id": "1f559255-9181-4cca-9b70-ccda1ce47d50",
   "metadata": {},
   "outputs": [
    {
     "name": "stdout",
     "output_type": "stream",
     "text": [
      "np.arange(4.) : a = [0. 1. 2. 3.], shape = (4,), a data type = float64\n",
      "np.random.rand(4) : a = [0.08967167 0.36384224 0.23592221 0.13325315], shaoe = (4,), a data type = float64\n"
     ]
    }
   ],
   "source": [
    "a = np.arange(4.)\n",
    "print(f\"np.arange(4.) : a = {a}, shape = {a.shape}, a data type = {a.dtype}\")\n",
    "\n",
    "a = np.random.rand(4)\n",
    "print(f\"np.random.rand(4) : a = {a}, shaoe = {a.shape}, a data type = {a.dtype}\")"
   ]
  },
  {
   "cell_type": "code",
   "execution_count": null,
   "id": "2ce56762-808a-4631-ba2c-b28ecb82eb67",
   "metadata": {},
   "outputs": [],
   "source": [
    "a = np.array([5, 4, 3, 2])"
   ]
  }
 ],
 "metadata": {
  "kernelspec": {
   "display_name": "Python 3 (ipykernel)",
   "language": "python",
   "name": "python3"
  },
  "language_info": {
   "codemirror_mode": {
    "name": "ipython",
    "version": 3
   },
   "file_extension": ".py",
   "mimetype": "text/x-python",
   "name": "python",
   "nbconvert_exporter": "python",
   "pygments_lexer": "ipython3",
   "version": "3.12.1"
  }
 },
 "nbformat": 4,
 "nbformat_minor": 5
}
